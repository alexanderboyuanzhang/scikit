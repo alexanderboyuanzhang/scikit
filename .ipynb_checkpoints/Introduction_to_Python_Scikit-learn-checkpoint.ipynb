{
 "cells": [
  {
   "cell_type": "markdown",
   "metadata": {},
   "source": [
    "# Introduction to Python Scikit-learn\n",
    "Python Scikit-learn is a free Machine Learning library for Python. It’s a very useful tool for data mining and data analysis and can be used for personal as well as commercial use.\n",
    "\n",
    "Python Scikit-learn lets users perform various Machine Learning tasks and provides a means to implement Machine Learning in Python. It needs to work with Python scientific and numerical libraries, namely, SciPy and NumPy, respectively. It’s basically a SciPy toolkit that features various Machine Learning algorithms.\n",
    "\n",
    "Scikit-learn has small standard datasets that we don’t need to download from any external website. We can just import these datasets directly from Python Scikit-learn. Following is the list of the datasets that come with Scikit-learn:\n",
    "1. Boston House Prices Dataset\n",
    "2. Iris Plants Dataset\n",
    "3. Diabetes Dataset\n",
    "4. Digits Dataset\n",
    "5. Wine Recognition Dataset\n",
    "6. Breast Cancer Dataset\n",
    "\n",
    "Here, we are going to use the **Iris Plants Dataset** throughout this tutorial. This dataset consists of four fields, namely, sepal length, sepal width, petal length, and petal width. It also contains a super class which contains three different classes, Iris setosa, Iris versicolor, and Iris virginica. These are basically the species of Iris plants, and the data in our dataset, i.e., the Iris plants, is divided into these three classes.\n",
    "\n",
    "We are going to show how to import this dataset and then perform Machine Learning algorithms on it. We can import the same or any of these datasets the same way as we are following in this tutorial.\n",
    "\n",
    "**Software prerequisites**:\n",
    "\n",
    "There are some Python libraries that we will have to install before we can get started with installing Scikit-learn, since Python Scikit-learn is built of these tools in order to support scientific and numerical libraries of Python. Following are the tools and libraries that we need preinstalled before using Scikit-learn:\n",
    "\n",
    "Python (2.7 or above)\n",
    "NumPy (1.6.1 or above)\n",
    "SciPy (0.9 or above)\n",
    "Scikit-learn"
   ]
  },
  {
   "cell_type": "code",
   "execution_count": null,
   "metadata": {},
   "outputs": [],
   "source": []
  }
 ],
 "metadata": {
  "kernelspec": {
   "display_name": "Python 3",
   "language": "python",
   "name": "python3"
  },
  "language_info": {
   "codemirror_mode": {
    "name": "ipython",
    "version": 3
   },
   "file_extension": ".py",
   "mimetype": "text/x-python",
   "name": "python",
   "nbconvert_exporter": "python",
   "pygments_lexer": "ipython3",
   "version": "3.7.3"
  }
 },
 "nbformat": 4,
 "nbformat_minor": 2
}
